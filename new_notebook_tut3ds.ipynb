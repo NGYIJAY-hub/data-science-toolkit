{
  "nbformat": 4,
  "nbformat_minor": 0,
  "metadata": {
    "colab": {
      "provenance": [],
      "authorship_tag": "ABX9TyPL7Uw9fCIrnyZn/I6naTMO",
      "include_colab_link": true
    },
    "kernelspec": {
      "name": "python3",
      "display_name": "Python 3"
    },
    "language_info": {
      "name": "python"
    }
  },
  "cells": [
    {
      "cell_type": "markdown",
      "metadata": {
        "id": "view-in-github",
        "colab_type": "text"
      },
      "source": [
        "<a href=\"https://colab.research.google.com/github/NGYIJAY-hub/data-science-toolkit/blob/main/new_notebook_tut3ds.ipynb\" target=\"_parent\"><img src=\"https://colab.research.google.com/assets/colab-badge.svg\" alt=\"Open In Colab\"/></a>"
      ]
    },
    {
      "cell_type": "markdown",
      "source": [
        "2. array 2x2"
      ],
      "metadata": {
        "id": "f5BA6ralDUzP"
      }
    },
    {
      "cell_type": "code",
      "execution_count": null,
      "metadata": {
        "colab": {
          "base_uri": "https://localhost:8080/"
        },
        "id": "4DXYZ8Snz1IP",
        "outputId": "fc5bc5b8-0983-47b5-96b1-704c8e4c0249"
      },
      "outputs": [
        {
          "output_type": "stream",
          "name": "stdout",
          "text": [
            "[[1 2]\n",
            " [3 4]]\n",
            "(2, 2)\n"
          ]
        }
      ],
      "source": [
        "import numpy as np;\n",
        "b=np.array([[1,2],[3,4]]);\n",
        "print(b);\n",
        "print(b.shape);"
      ]
    },
    {
      "cell_type": "markdown",
      "source": [
        "3."
      ],
      "metadata": {
        "id": "iZ7-12hJFcWd"
      }
    },
    {
      "cell_type": "code",
      "source": [
        "c=np.array([[1,2,3,4],[5,6,7,8],[9,10,11,12]]);\n",
        "print(c);\n",
        "print(c.shape)"
      ],
      "metadata": {
        "id": "bgFFUt_bMMAk",
        "colab": {
          "base_uri": "https://localhost:8080/"
        },
        "outputId": "36b244ba-b2e0-4aa5-be4d-3e072d1c25b8"
      },
      "execution_count": null,
      "outputs": [
        {
          "output_type": "stream",
          "name": "stdout",
          "text": [
            "[[ 1  2  3  4]\n",
            " [ 5  6  7  8]\n",
            " [ 9 10 11 12]]\n",
            "(3, 4)\n"
          ]
        }
      ]
    },
    {
      "cell_type": "code",
      "source": [
        "d=np.zeros((2,2));\n",
        "print(d);\n",
        "e=np.ones((2,2));\n",
        "print(e);"
      ],
      "metadata": {
        "id": "cIHyqL34GGOu",
        "colab": {
          "base_uri": "https://localhost:8080/"
        },
        "outputId": "b3b3b5ec-764c-43d2-cee6-2e04daa0c5c7"
      },
      "execution_count": null,
      "outputs": [
        {
          "output_type": "stream",
          "name": "stdout",
          "text": [
            "[[0. 0.]\n",
            " [0. 0.]]\n",
            "[[1. 1.]\n",
            " [1. 1.]]\n"
          ]
        }
      ]
    },
    {
      "cell_type": "code",
      "source": [
        "np.random.seed(42);\n",
        "G=np.random.rand(6,3)\n",
        "print(\"Original Array:\\n\",G)\n",
        "\n",
        "G_T=G.T\n",
        "print(\"Transposed Array:\\n\",G_T)\n"
      ],
      "metadata": {
        "colab": {
          "base_uri": "https://localhost:8080/"
        },
        "id": "zESdXHbBIyQj",
        "outputId": "8f4bce66-3d39-4fde-b86e-9a486bb11b06"
      },
      "execution_count": null,
      "outputs": [
        {
          "output_type": "stream",
          "name": "stdout",
          "text": [
            "Original Array:\n",
            " [[0.37454012 0.95071431 0.73199394]\n",
            " [0.59865848 0.15601864 0.15599452]\n",
            " [0.05808361 0.86617615 0.60111501]\n",
            " [0.70807258 0.02058449 0.96990985]\n",
            " [0.83244264 0.21233911 0.18182497]\n",
            " [0.18340451 0.30424224 0.52475643]]\n",
            "Transposed Array:\n",
            " [[0.37454012 0.59865848 0.05808361 0.70807258 0.83244264 0.18340451]\n",
            " [0.95071431 0.15601864 0.86617615 0.02058449 0.21233911 0.30424224]\n",
            " [0.73199394 0.15599452 0.60111501 0.96990985 0.18182497 0.52475643]]\n"
          ]
        }
      ]
    },
    {
      "cell_type": "code",
      "source": [
        "n,p,m=2,3,4\n",
        "\n",
        "K=np.random.rand(n,p)\n",
        "L=np.random.rand(p,m)\n",
        "\n",
        "print(\"Matrix K:\\n\",K)\n",
        "print(\"Matrix L:\\n\",L)\n",
        "\n",
        "#compute dot product\n",
        "C=np.dot(K,L)\n",
        "print(\"Dot Product:\\n\",C)"
      ],
      "metadata": {
        "colab": {
          "base_uri": "https://localhost:8080/"
        },
        "id": "K_qcUh8ULyiT",
        "outputId": "6e0c74a5-5185-449a-8b0b-e5e9142c2938"
      },
      "execution_count": null,
      "outputs": [
        {
          "output_type": "stream",
          "name": "stdout",
          "text": [
            "Matrix K:\n",
            " [[0.43194502 0.29122914 0.61185289]\n",
            " [0.13949386 0.29214465 0.36636184]]\n",
            "Matrix L:\n",
            " [[0.45606998 0.78517596 0.19967378 0.51423444]\n",
            " [0.59241457 0.04645041 0.60754485 0.17052412]\n",
            " [0.06505159 0.94888554 0.96563203 0.80839735]]\n",
            "Dot Product:\n",
            " [[0.40932755 0.93325892 0.85400762 0.76640286]\n",
            " [0.26052213 0.47073292 0.55911498 0.4177162 ]]\n"
          ]
        }
      ]
    }
  ]
}